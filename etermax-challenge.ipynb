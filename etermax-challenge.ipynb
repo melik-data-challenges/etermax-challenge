{
 "cells": [
  {
   "cell_type": "markdown",
   "metadata": {
    "toc": true
   },
   "source": [
    "<h1>Contenidos<span class=\"tocSkip\"></span></h1>\n",
    "<div class=\"toc\"><ul class=\"toc-item\"><li><span><a href=\"#Período-considerado\" data-toc-modified-id=\"Período-considerado-1\"><span class=\"toc-item-num\">1&nbsp;&nbsp;</span>Período considerado</a></span></li><li><span><a href=\"#Uso-de-moneda-promedio-por-usuario-activo\" data-toc-modified-id=\"Uso-de-moneda-promedio-por-usuario-activo-2\"><span class=\"toc-item-num\">2&nbsp;&nbsp;</span>Uso de moneda promedio por usuario activo</a></span></li><li><span><a href=\"#Primer-evento\" data-toc-modified-id=\"Primer-evento-3\"><span class=\"toc-item-num\">3&nbsp;&nbsp;</span>Primer evento</a></span><ul class=\"toc-item\"><li><span><a href=\"#Cuánto-tardan-en-realizar-el-primer-evento?\" data-toc-modified-id=\"Cuánto-tardan-en-realizar-el-primer-evento?-3.1\"><span class=\"toc-item-num\">3.1&nbsp;&nbsp;</span>Cuánto tardan en realizar el primer evento?</a></span></li></ul></li><li><span><a href=\"#Los-usuarios-de-iOS-tienen-una-media-diaria-de-consumo-mayor-a-los-de-Android\" data-toc-modified-id=\"Los-usuarios-de-iOS-tienen-una-media-diaria-de-consumo-mayor-a-los-de-Android-4\"><span class=\"toc-item-num\">4&nbsp;&nbsp;</span>Los usuarios de iOS tienen una media diaria de consumo mayor a los de Android</a></span></li><li><span><a href=\"#Distancia-creación-evento\" data-toc-modified-id=\"Distancia-creación-evento-5\"><span class=\"toc-item-num\">5&nbsp;&nbsp;</span>Distancia creación-evento</a></span></li><li><span><a href=\"#Eventos-con-importe-cero\" data-toc-modified-id=\"Eventos-con-importe-cero-6\"><span class=\"toc-item-num\">6&nbsp;&nbsp;</span>Eventos con importe cero</a></span></li></ul></div>"
   ]
  },
  {
   "cell_type": "code",
   "execution_count": 74,
   "metadata": {
    "ExecuteTime": {
     "end_time": "2019-07-25T14:16:29.729548Z",
     "start_time": "2019-07-25T14:16:29.716912Z"
    }
   },
   "outputs": [],
   "source": [
    "import sys, os\n",
    "\n",
    "import numpy as np\n",
    "import pandas as pd\n",
    "import matplotlib.pyplot as plt\n",
    "import seaborn as sns\n",
    "\n",
    "from IPython.display import HTML\n",
    "\n"
   ]
  },
  {
   "cell_type": "code",
   "execution_count": 72,
   "metadata": {
    "ExecuteTime": {
     "end_time": "2019-07-25T14:15:14.651521Z",
     "start_time": "2019-07-25T14:15:14.633650Z"
    }
   },
   "outputs": [],
   "source": [
    "# formarters\n",
    "f_ar = lambda x: locale.format_string('%.2f', x, 1)\n",
    "d_ar = lambda x: locale.format_string('%d', x, 1)\n",
    "\n",
    "tz_arg = lambda x: pd.to_datetime(x).tz_localize('UTC').tz_convert(tz='America/Argentina/Buenos_Aires')\n",
    "\n",
    "TABLE_COUNTER = 0\n",
    "TABLE_TEMPLATE = \"\"\"\n",
    "<center><strong><small>{title}</small></strong></center>\n",
    "<center>{table}</center>\n",
    "<center><strong><small>Tabla {table_number}</small></strong></center>\n",
    "\"\"\"\n",
    "    \n",
    "def table_counter():\n",
    "    global TABLE_COUNTER\n",
    "    TABLE_COUNTER += 1\n",
    "    return TABLE_COUNTER\n",
    "\n",
    "def add_style_to_df(df, subset, color='black', font_weight=None):\n",
    "    render = df.style.set_properties(\n",
    "        subset= subset, \n",
    "        **{'font-weight': font_weight, 'color':color}).render().replace('\\n','')\n",
    "    return render\n",
    "\n",
    "def add_title(df_html, title):\n",
    "    str_table = TABLE_TEMPLATE.format(title=title, table=df_html, table_number=table_counter())\n",
    "    return str_table.replace('\\n','')\n",
    "\n",
    "def put_df_on_report(df, title, subset=None, color='black', font_weight='bold'):\n",
    "    if subset:\n",
    "        df_html = add_style_to_df(df, subset=subset,color=color, font_weight=font_weight)\n",
    "    else:\n",
    "        df_html = df.to_html().replace('\\n','')\n",
    "    return add_title(df_html, title)"
   ]
  },
  {
   "cell_type": "code",
   "execution_count": 2,
   "metadata": {
    "ExecuteTime": {
     "end_time": "2019-07-25T13:23:09.645229Z",
     "start_time": "2019-07-25T13:23:09.635342Z"
    }
   },
   "outputs": [],
   "source": [
    "def get_df_metadata(df):\n",
    "    df_meta = df.dtypes.to_frame().rename({0:'dtypes'},axis=1)\n",
    "    df_meta['count'] = df.count()\n",
    "    df_meta['nulls'] = df.isnull().sum()\n",
    "    df_meta['nunique'] = df.nunique()\n",
    "\n",
    "    return df_meta"
   ]
  },
  {
   "cell_type": "code",
   "execution_count": 3,
   "metadata": {
    "ExecuteTime": {
     "end_time": "2019-07-25T13:23:13.159001Z",
     "start_time": "2019-07-25T13:23:09.647622Z"
    }
   },
   "outputs": [],
   "source": [
    "df = pd.read_csv('../data/data_analyst_exercise_dataset.csv')"
   ]
  },
  {
   "cell_type": "code",
   "execution_count": 5,
   "metadata": {
    "ExecuteTime": {
     "end_time": "2019-07-25T13:25:08.762414Z",
     "start_time": "2019-07-25T13:23:16.139352Z"
    }
   },
   "outputs": [],
   "source": [
    "# convierto tipos y agrego columnas auxiliares\n",
    "def get_week(d):\n",
    "    start = d - pd.Timedelta(days=d.weekday())\n",
    "    end = start + pd.Timedelta(days=6)\n",
    "    return end\n",
    "\n",
    "df['user_creation_time'] = pd.DatetimeIndex(df.user_creation_time)\n",
    "df['event_time'] = pd.DatetimeIndex(df.event_time)\n",
    "df['event_time_short'] = df['event_time'].dt.strftime(\"%Y-%m-%d\")\n",
    "\n",
    "df[\"event_hour\"] = pd.DatetimeIndex(df.event_time).hour\n",
    "df['event_weekday'] = pd.DatetimeIndex(df.event_time).weekday\n",
    "df['event_weekdate_short'] = df[\"event_time\"].apply(get_week).dt.strftime(\"%Y-%m-%d\")\n",
    "\n",
    "df['event_delay'] = (df.event_time - df.user_creation_time).dt.seconds"
   ]
  },
  {
   "cell_type": "code",
   "execution_count": 6,
   "metadata": {
    "ExecuteTime": {
     "end_time": "2019-07-25T13:25:09.075601Z",
     "start_time": "2019-07-25T13:25:08.763872Z"
    }
   },
   "outputs": [],
   "source": [
    "df = df.merge(pd.get_dummies(df.sink_channel),left_index=True, right_index=True)"
   ]
  },
  {
   "cell_type": "code",
   "execution_count": 32,
   "metadata": {
    "ExecuteTime": {
     "end_time": "2019-07-25T13:35:17.454130Z",
     "start_time": "2019-07-25T13:35:17.448655Z"
    }
   },
   "outputs": [],
   "source": [
    "# get_df_metadata(df)"
   ]
  },
  {
   "cell_type": "code",
   "execution_count": 23,
   "metadata": {
    "ExecuteTime": {
     "end_time": "2019-07-25T13:30:40.130883Z",
     "start_time": "2019-07-25T13:30:39.745272Z"
    }
   },
   "outputs": [],
   "source": [
    "# decido eliminar a los usuarios que tienen valores nulos para la columna balance.\n",
    "\n",
    "balance_is_null = df.coins_balance.isnull()\n",
    "user_null_balance = df.user_id.isin(df[balance_is_null].user_id.values)\n",
    "# df[user_null_balance].shape\n",
    "df.drop(index=df[balance_is_null].index, inplace=True)"
   ]
  },
  {
   "cell_type": "markdown",
   "metadata": {},
   "source": [
    "# Período considerado"
   ]
  },
  {
   "cell_type": "code",
   "execution_count": 110,
   "metadata": {
    "ExecuteTime": {
     "end_time": "2019-07-25T14:51:55.697751Z",
     "start_time": "2019-07-25T14:51:46.755047Z"
    }
   },
   "outputs": [],
   "source": [
    "from_date = df.user_creation_time.dt.strftime(\"%Y-%m-%d\").min()\n",
    "end_date = df.event_time_short.max()"
   ]
  },
  {
   "cell_type": "markdown",
   "metadata": {
    "cell_style": "center",
    "variables": {
     "end_date": "2018-07-28",
     "from_date": "2018-07-01"
    }
   },
   "source": [
    "Se cuenta con registros entre las fechas: {{from_date}} y {{end_date}}"
   ]
  },
  {
   "cell_type": "markdown",
   "metadata": {},
   "source": [
    "# Uso de moneda promedio por usuario activo"
   ]
  },
  {
   "cell_type": "markdown",
   "metadata": {},
   "source": [
    "Se entiende por _usuario activo_ aquel que registró transacciones para el período considerado."
   ]
  },
  {
   "cell_type": "code",
   "execution_count": 15,
   "metadata": {
    "ExecuteTime": {
     "end_time": "2019-07-25T13:25:14.315850Z",
     "start_time": "2019-07-25T13:25:13.676436Z"
    }
   },
   "outputs": [],
   "source": [
    "df_arppu = df.groupby('event_time_short').agg({'user_id': pd.Series.nunique,\n",
    "                                               'amount_spent': pd.Series.sum})\n",
    "\n",
    "df_arppu['arppu'] = df_arppu.amount_spent / df_arppu.user_id"
   ]
  },
  {
   "cell_type": "code",
   "execution_count": 80,
   "metadata": {
    "ExecuteTime": {
     "end_time": "2019-07-25T14:24:02.086511Z",
     "start_time": "2019-07-25T14:24:02.080662Z"
    }
   },
   "outputs": [],
   "source": [
    "mean = df_arppu.arppu.mean()"
   ]
  },
  {
   "cell_type": "code",
   "execution_count": 81,
   "metadata": {
    "ExecuteTime": {
     "end_time": "2019-07-25T14:24:04.044354Z",
     "start_time": "2019-07-25T14:24:03.557403Z"
    }
   },
   "outputs": [
    {
     "data": {
      "image/png": "[encoded data removed]",
      "text/plain": [
       "<Figure size 1152x360 with 1 Axes>"
      ]
     },
     "metadata": {
      "needs_background": "light"
     },
     "output_type": "display_data"
    }
   ],
   "source": [
    "df_arppu.arppu.plot.bar(figsize=(16,5));\n",
    "plt.hlines(y=mean, xmin=-1, xmax=30, linestyles='dotted', color='g', alpha=.5)\n",
    "# plt.box(False)\n",
    "plt.title('Uso de moneda promedio por usuario, por día')\n",
    "plt.xlabel('fecha')\n",
    "plt.ylabel('cantidad de monedas');"
   ]
  },
  {
   "cell_type": "markdown",
   "metadata": {},
   "source": [
    "# Primer evento"
   ]
  },
  {
   "cell_type": "code",
   "execution_count": 24,
   "metadata": {
    "ExecuteTime": {
     "end_time": "2019-07-25T13:30:52.847500Z",
     "start_time": "2019-07-25T13:30:49.613218Z"
    }
   },
   "outputs": [],
   "source": [
    "df_usr_first_event = df.sort_values(['user_creation_time', 'event_time']).drop_duplicates('user_id', keep='first')"
   ]
  },
  {
   "cell_type": "code",
   "execution_count": 88,
   "metadata": {
    "ExecuteTime": {
     "end_time": "2019-07-25T14:29:56.218508Z",
     "start_time": "2019-07-25T14:29:56.206143Z"
    }
   },
   "outputs": [],
   "source": [
    "first_delay = df_usr_first_event.event_delay.mean() /60 /60\n",
    "str_first_delay = '{:0.2f}'.format(first_delay)\n",
    "\n",
    "first_amount = df_usr_first_event.amount_spent.mean()\n",
    "str_first_amount = '{:0.2f}'.format(first_amount)"
   ]
  },
  {
   "cell_type": "markdown",
   "metadata": {
    "variables": {
     "str_first_amount": "658.74",
     "str_first_delay": "6.46"
    }
   },
   "source": [
    "En promedio un usuario tarda {{str_first_delay}} horas en realizar su primera transacción. <br>\n",
    "El importe medio del primer evento es de {{str_first_amount}} monedas,"
   ]
  },
  {
   "cell_type": "code",
   "execution_count": 27,
   "metadata": {
    "ExecuteTime": {
     "end_time": "2019-07-25T13:30:55.428691Z",
     "start_time": "2019-07-25T13:30:55.339682Z"
    }
   },
   "outputs": [],
   "source": [
    "df_first = df_usr_first_event.groupby(['platform','sink_channel']).agg({'user_id': pd.Series.count,}).unstack(0)"
   ]
  },
  {
   "cell_type": "code",
   "execution_count": 90,
   "metadata": {
    "ExecuteTime": {
     "end_time": "2019-07-25T14:31:24.442183Z",
     "start_time": "2019-07-25T14:31:24.057852Z"
    }
   },
   "outputs": [
    {
     "data": {
      "image/png": "[encoded data removed]",
      "text/plain": [
       "<Figure size 864x432 with 2 Axes>"
      ]
     },
     "metadata": {},
     "output_type": "display_data"
    }
   ],
   "source": [
    "main_sink = (df_first / df_first.sum() * 100) > 1\n",
    "df_first[main_sink].dropna().plot.pie(autopct='%0.0f', subplots=True, figsize=(12,6));\n",
    "plt.suptitle('Proporciones de los tipos de bien para el primer consumo, por plataforma');\n"
   ]
  },
  {
   "cell_type": "markdown",
   "metadata": {},
   "source": [
    "# Los usuarios de iOS tienen una media diaria de consumo mayor a los de Android"
   ]
  },
  {
   "cell_type": "code",
   "execution_count": 91,
   "metadata": {
    "ExecuteTime": {
     "end_time": "2019-07-25T14:32:55.866936Z",
     "start_time": "2019-07-25T14:32:54.873877Z"
    }
   },
   "outputs": [
    {
     "data": {
      "image/png": "[encoded data removed]",
      "text/plain": [
       "<Figure size 1152x360 with 1 Axes>"
      ]
     },
     "metadata": {
      "needs_background": "light"
     },
     "output_type": "display_data"
    }
   ],
   "source": [
    "df_amount_by_platform = df.groupby(['event_time_short','platform']).agg({'amount_spent': [pd.Series.count,pd.Series.mean]}).unstack()\n",
    "\n",
    "df_amount_by_platform['amount_spent']['mean'].plot.bar(figsize=(16,5));\n",
    "plt.title('Media de consumo diaria por plataforma')\n",
    "plt.xlabel('fecha')\n",
    "plt.ylabel('cantidad de monedas');\n"
   ]
  },
  {
   "cell_type": "markdown",
   "metadata": {},
   "source": [
    "# Distancia creación-evento "
   ]
  },
  {
   "cell_type": "markdown",
   "metadata": {},
   "source": [
    "En el período considerado, los usuarios registran eventos en una plazo máximo de 24hs, a partir de comenzar a usar la aplicación."
   ]
  },
  {
   "cell_type": "code",
   "execution_count": 99,
   "metadata": {
    "ExecuteTime": {
     "end_time": "2019-07-25T14:40:41.293790Z",
     "start_time": "2019-07-25T14:40:40.887595Z"
    }
   },
   "outputs": [
    {
     "data": {
      "image/png": "[encoded data removed]",
      "text/plain": [
       "<Figure size 1152x288 with 1 Axes>"
      ]
     },
     "metadata": {
      "needs_background": "light"
     },
     "output_type": "display_data"
    }
   ],
   "source": [
    "# df.first_event_delay.hist(bins=50, figsize=(16,4))\n",
    "# (df.groupby('user_id')['event_delay'].max() /60 /60).to_frame()\n",
    "\n",
    "(df.event_delay /60 /60).hist(bins=20, figsize=(16,4))\n",
    "plt.title('Histograma de la demora del evento')\n",
    "plt.xlabel('horas')\n",
    "plt.ylabel('cantidad de eventos');\n",
    "\n"
   ]
  },
  {
   "cell_type": "markdown",
   "metadata": {},
   "source": [
    "# Eventos con importe cero"
   ]
  },
  {
   "cell_type": "code",
   "execution_count": 75,
   "metadata": {
    "ExecuteTime": {
     "end_time": "2019-07-25T14:16:34.399835Z",
     "start_time": "2019-07-25T14:16:34.314605Z"
    }
   },
   "outputs": [
    {
     "data": {
      "text/html": [
       "<center><strong><small>Eventos por plataforma</small></strong></center><center><table border=\"1\" class=\"dataframe\">  <thead>    <tr style=\"text-align: right;\">      <th></th>      <th>events</th>    </tr>  </thead>  <tbody>    <tr>      <th>Android</th>      <td>87305</td>    </tr>    <tr>      <th>iOS</th>      <td>4</td>    </tr>  </tbody></table></center><center><strong><small>Tabla 1</small></strong></center>"
      ],
      "text/plain": [
       "<IPython.core.display.HTML object>"
      ]
     },
     "metadata": {},
     "output_type": "display_data"
    }
   ],
   "source": [
    "amount_is_zero = df.amount_spent == 0\n",
    "df_aux = df[amount_is_zero].platform.value_counts().to_frame()\n",
    "df_aux.rename({'platform':'events'},axis=1, inplace=True)\n",
    "display(HTML(put_df_on_report(df_aux, 'Eventos por plataforma')))\n"
   ]
  },
  {
   "cell_type": "code",
   "execution_count": 76,
   "metadata": {
    "ExecuteTime": {
     "end_time": "2019-07-25T14:18:04.308778Z",
     "start_time": "2019-07-25T14:18:04.261663Z"
    }
   },
   "outputs": [
    {
     "data": {
      "text/html": [
       "<center><strong><small>Eventos por tipo de bien/beneficio</small></strong></center><center><table border=\"1\" class=\"dataframe\">  <thead>    <tr style=\"text-align: right;\">      <th></th>      <th>events</th>    </tr>  </thead>  <tbody>    <tr>      <th>sink_1</th>      <td>87309</td>    </tr>  </tbody></table></center><center><strong><small>Tabla 2</small></strong></center>"
      ],
      "text/plain": [
       "<IPython.core.display.HTML object>"
      ]
     },
     "metadata": {},
     "output_type": "display_data"
    }
   ],
   "source": [
    "df_aux = df[amount_is_zero].sink_channel.value_counts().to_frame()\n",
    "df_aux.rename({'sink_channel':'events'},axis=1, inplace=True)\n",
    "display(HTML(put_df_on_report(df_aux, 'Eventos por tipo de bien/beneficio')))"
   ]
  },
  {
   "cell_type": "markdown",
   "metadata": {},
   "source": [
    "La propoción de eventos con importe cero varía entre el 3 y el 6% para el período considerado"
   ]
  },
  {
   "cell_type": "code",
   "execution_count": 64,
   "metadata": {
    "ExecuteTime": {
     "end_time": "2019-07-25T14:07:21.917080Z",
     "start_time": "2019-07-25T14:07:21.548298Z"
    }
   },
   "outputs": [
    {
     "data": {
      "image/png": "[encoded data removed]",
      "text/plain": [
       "<Figure size 1152x288 with 1 Axes>"
      ]
     },
     "metadata": {
      "needs_background": "light"
     },
     "output_type": "display_data"
    }
   ],
   "source": [
    "df_amount_zero.zero_rate.plot.bar(figsize=(16,4))\n",
    "plt.title('Proporción de eventos con importe cero sobre el total de eventos.')\n",
    "plt.xlabel('día')\n",
    "plt.ylabel('proporción (%)');"
   ]
  },
  {
   "cell_type": "code",
   "execution_count": null,
   "metadata": {},
   "outputs": [],
   "source": []
  }
 ],
 "metadata": {
  "hide_input": false,
  "kernelspec": {
   "display_name": "Python 3",
   "language": "python",
   "name": "python3"
  },
  "language_info": {
   "codemirror_mode": {
    "name": "ipython",
    "version": 3
   },
   "file_extension": ".py",
   "mimetype": "text/x-python",
   "name": "python",
   "nbconvert_exporter": "python",
   "pygments_lexer": "ipython3",
   "version": "3.7.2"
  },
  "toc": {
   "base_numbering": 1,
   "nav_menu": {},
   "number_sections": true,
   "sideBar": true,
   "skip_h1_title": false,
   "title_cell": "Contenidos",
   "title_sidebar": "Contents",
   "toc_cell": true,
   "toc_position": {
    "height": "calc(100% - 180px)",
    "left": "10px",
    "top": "150px",
    "width": "299.492px"
   },
   "toc_section_display": true,
   "toc_window_display": true
  }
 },
 "nbformat": 4,
 "nbformat_minor": 2
}
