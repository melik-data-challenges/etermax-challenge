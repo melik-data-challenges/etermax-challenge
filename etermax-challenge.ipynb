{
 "cells": [
  {
   "cell_type": "markdown",
   "metadata": {},
   "source": [
    "El objetivo del ejercicio es obtener conclusiones interesantes y accionables sobre los datos de\n",
    "utilización de monedas (soft currency) en el juego Preguntados.\n",
    "\n",
    "Está compuesto por los siguientes campos:\n",
    "- user_id: identificador anonimizado del usuario.\n",
    "- user_creation_time: fecha y hora en que se registró el usuario (UTC).\n",
    "- platform: plataforma del usuario. Puede ser Android o iOS.\n",
    "- event_time: fecha y hora en que se registró el evento de gasto de monedas (UTC).\n",
    "- sink_channel: tipo de bien o beneficio obtenido a cambio de las monedas.\n",
    "- amount_spent: cantidad de monedas gastadas.\n",
    "- coins_balance: saldo en monedas del usuario, luego de haberse efectuado el gasto."
   ]
  },
  {
   "cell_type": "markdown",
   "metadata": {},
   "source": [
    "posibles métricas\n",
    "1. media semanal de uso de monedas\n",
    "1. media semanal de uso de monedas por usuario\n",
    "1. importe del primer evento por usuario\n",
    "1. consumo por día de la semana\n",
    "1. consumo por producto (sink_channel)\n",
    "\n",
    "cosas interesantes para ver:\n",
    "1. predecir cuándo será el próximo evento\n",
    "1. predecir el importe del próximo evento\n",
    "1. predecir próximo item a comprar"
   ]
  },
  {
   "cell_type": "markdown",
   "metadata": {},
   "source": [
    "# EDA"
   ]
  },
  {
   "cell_type": "code",
   "execution_count": 56,
   "metadata": {
    "ExecuteTime": {
     "end_time": "2019-07-23T13:43:04.503755Z",
     "start_time": "2019-07-23T13:43:04.148551Z"
    }
   },
   "outputs": [],
   "source": [
    "import sys, os\n",
    "\n",
    "import numpy as np\n",
    "import pandas as pd\n",
    "import matplotlib.pyplot as plt\n",
    "import seaborn as sns\n"
   ]
  },
  {
   "cell_type": "code",
   "execution_count": 167,
   "metadata": {
    "ExecuteTime": {
     "end_time": "2019-07-23T18:04:00.254490Z",
     "start_time": "2019-07-23T18:04:00.244935Z"
    }
   },
   "outputs": [],
   "source": [
    "def get_df_metadata(df):\n",
    "    df_meta = df.dtypes.to_frame().rename({0:'dtypes'},axis=1)\n",
    "    df_meta['count'] = df.count()\n",
    "    df_meta['nulls'] = df.isnull().sum()\n",
    "    df_meta['nunique'] = df.nunique()\n",
    "\n",
    "    return df_meta"
   ]
  },
  {
   "cell_type": "code",
   "execution_count": 38,
   "metadata": {
    "ExecuteTime": {
     "end_time": "2019-07-23T13:08:56.650065Z",
     "start_time": "2019-07-23T13:08:53.536658Z"
    }
   },
   "outputs": [],
   "source": [
    "df = pd.read_csv('../data/data_analyst_exercise_dataset.csv')"
   ]
  },
  {
   "cell_type": "code",
   "execution_count": 39,
   "metadata": {
    "ExecuteTime": {
     "end_time": "2019-07-23T13:08:59.233621Z",
     "start_time": "2019-07-23T13:08:56.652199Z"
    }
   },
   "outputs": [
    {
     "data": {
      "text/html": [
       "<div>\n",
       "<style scoped>\n",
       "    .dataframe tbody tr th:only-of-type {\n",
       "        vertical-align: middle;\n",
       "    }\n",
       "\n",
       "    .dataframe tbody tr th {\n",
       "        vertical-align: top;\n",
       "    }\n",
       "\n",
       "    .dataframe thead th {\n",
       "        text-align: right;\n",
       "    }\n",
       "</style>\n",
       "<table border=\"1\" class=\"dataframe\">\n",
       "  <thead>\n",
       "    <tr style=\"text-align: right;\">\n",
       "      <th></th>\n",
       "      <th>dtypes</th>\n",
       "      <th>nulls</th>\n",
       "      <th>nunique</th>\n",
       "    </tr>\n",
       "  </thead>\n",
       "  <tbody>\n",
       "    <tr>\n",
       "      <th>user_id</th>\n",
       "      <td>object</td>\n",
       "      <td>0</td>\n",
       "      <td>95388</td>\n",
       "    </tr>\n",
       "    <tr>\n",
       "      <th>user_creation_time</th>\n",
       "      <td>object</td>\n",
       "      <td>0</td>\n",
       "      <td>95384</td>\n",
       "    </tr>\n",
       "    <tr>\n",
       "      <th>platform</th>\n",
       "      <td>object</td>\n",
       "      <td>0</td>\n",
       "      <td>2</td>\n",
       "    </tr>\n",
       "    <tr>\n",
       "      <th>event_time</th>\n",
       "      <td>object</td>\n",
       "      <td>0</td>\n",
       "      <td>2040261</td>\n",
       "    </tr>\n",
       "    <tr>\n",
       "      <th>sink_channel</th>\n",
       "      <td>object</td>\n",
       "      <td>0</td>\n",
       "      <td>7</td>\n",
       "    </tr>\n",
       "    <tr>\n",
       "      <th>amount_spent</th>\n",
       "      <td>float64</td>\n",
       "      <td>0</td>\n",
       "      <td>54</td>\n",
       "    </tr>\n",
       "    <tr>\n",
       "      <th>coins_balance</th>\n",
       "      <td>float64</td>\n",
       "      <td>24</td>\n",
       "      <td>31843</td>\n",
       "    </tr>\n",
       "  </tbody>\n",
       "</table>\n",
       "</div>"
      ],
      "text/plain": [
       "                     dtypes  nulls  nunique\n",
       "user_id              object      0    95388\n",
       "user_creation_time   object      0    95384\n",
       "platform             object      0        2\n",
       "event_time           object      0  2040261\n",
       "sink_channel         object      0        7\n",
       "amount_spent        float64      0       54\n",
       "coins_balance       float64     24    31843"
      ]
     },
     "execution_count": 39,
     "metadata": {},
     "output_type": "execute_result"
    }
   ],
   "source": [
    "get_df_metadata(df)"
   ]
  },
  {
   "cell_type": "code",
   "execution_count": 40,
   "metadata": {
    "ExecuteTime": {
     "end_time": "2019-07-23T13:10:50.896804Z",
     "start_time": "2019-07-23T13:08:59.235634Z"
    }
   },
   "outputs": [],
   "source": [
    "# convierto tipos y agrego columnas auxiliares\n",
    "def get_week(d):\n",
    "    start = d - pd.Timedelta(days=d.weekday())\n",
    "    end = start + pd.Timedelta(days=6)\n",
    "    return end\n",
    "\n",
    "df['user_creation_time'] = pd.DatetimeIndex(df.user_creation_time)\n",
    "df['event_time'] = pd.DatetimeIndex(df.event_time)\n",
    "df['event_time_short'] = df['event_time'].dt.strftime(\"%Y-%m-%d\")\n",
    "\n",
    "# df[\"date\"] = pd.DatetimeIndex(df.start_time).normalize()\n",
    "df[\"event_hour\"] = pd.DatetimeIndex(df.event_time).hour\n",
    "df['event_weekday'] = pd.DatetimeIndex(df.event_time).weekday\n",
    "df['event_weekdate_short'] = df[\"event_time\"].apply(get_week).dt.strftime(\"%Y-%m-%d\")"
   ]
  },
  {
   "cell_type": "code",
   "execution_count": 136,
   "metadata": {
    "ExecuteTime": {
     "end_time": "2019-07-23T16:01:59.234475Z",
     "start_time": "2019-07-23T16:01:58.934916Z"
    }
   },
   "outputs": [],
   "source": [
    "df = df.merge(pd.get_dummies(df.sink_channel),left_index=True, right_index=True)"
   ]
  },
  {
   "cell_type": "code",
   "execution_count": 180,
   "metadata": {
    "ExecuteTime": {
     "end_time": "2019-07-23T18:42:08.266254Z",
     "start_time": "2019-07-23T18:42:05.607135Z"
    }
   },
   "outputs": [
    {
     "data": {
      "text/html": [
       "<div>\n",
       "<style scoped>\n",
       "    .dataframe tbody tr th:only-of-type {\n",
       "        vertical-align: middle;\n",
       "    }\n",
       "\n",
       "    .dataframe tbody tr th {\n",
       "        vertical-align: top;\n",
       "    }\n",
       "\n",
       "    .dataframe thead th {\n",
       "        text-align: right;\n",
       "    }\n",
       "</style>\n",
       "<table border=\"1\" class=\"dataframe\">\n",
       "  <thead>\n",
       "    <tr style=\"text-align: right;\">\n",
       "      <th></th>\n",
       "      <th>dtypes</th>\n",
       "      <th>count</th>\n",
       "      <th>nulls</th>\n",
       "      <th>nunique</th>\n",
       "    </tr>\n",
       "  </thead>\n",
       "  <tbody>\n",
       "    <tr>\n",
       "      <th>user_id</th>\n",
       "      <td>object</td>\n",
       "      <td>2041568</td>\n",
       "      <td>0</td>\n",
       "      <td>95388</td>\n",
       "    </tr>\n",
       "    <tr>\n",
       "      <th>user_creation_time</th>\n",
       "      <td>datetime64[ns, UTC]</td>\n",
       "      <td>2041568</td>\n",
       "      <td>0</td>\n",
       "      <td>95384</td>\n",
       "    </tr>\n",
       "    <tr>\n",
       "      <th>platform</th>\n",
       "      <td>object</td>\n",
       "      <td>2041568</td>\n",
       "      <td>0</td>\n",
       "      <td>2</td>\n",
       "    </tr>\n",
       "    <tr>\n",
       "      <th>event_time</th>\n",
       "      <td>datetime64[ns, UTC]</td>\n",
       "      <td>2041568</td>\n",
       "      <td>0</td>\n",
       "      <td>2040261</td>\n",
       "    </tr>\n",
       "    <tr>\n",
       "      <th>sink_channel</th>\n",
       "      <td>object</td>\n",
       "      <td>2041568</td>\n",
       "      <td>0</td>\n",
       "      <td>7</td>\n",
       "    </tr>\n",
       "    <tr>\n",
       "      <th>amount_spent</th>\n",
       "      <td>float64</td>\n",
       "      <td>2041568</td>\n",
       "      <td>0</td>\n",
       "      <td>54</td>\n",
       "    </tr>\n",
       "    <tr>\n",
       "      <th>coins_balance</th>\n",
       "      <td>float64</td>\n",
       "      <td>2041544</td>\n",
       "      <td>24</td>\n",
       "      <td>31843</td>\n",
       "    </tr>\n",
       "    <tr>\n",
       "      <th>event_hour</th>\n",
       "      <td>int64</td>\n",
       "      <td>2041568</td>\n",
       "      <td>0</td>\n",
       "      <td>24</td>\n",
       "    </tr>\n",
       "    <tr>\n",
       "      <th>event_weekday</th>\n",
       "      <td>int64</td>\n",
       "      <td>2041568</td>\n",
       "      <td>0</td>\n",
       "      <td>7</td>\n",
       "    </tr>\n",
       "    <tr>\n",
       "      <th>event_weekdate_short</th>\n",
       "      <td>object</td>\n",
       "      <td>2041568</td>\n",
       "      <td>0</td>\n",
       "      <td>5</td>\n",
       "    </tr>\n",
       "    <tr>\n",
       "      <th>event_time_short</th>\n",
       "      <td>object</td>\n",
       "      <td>2041568</td>\n",
       "      <td>0</td>\n",
       "      <td>28</td>\n",
       "    </tr>\n",
       "    <tr>\n",
       "      <th>sink_1</th>\n",
       "      <td>uint8</td>\n",
       "      <td>2041568</td>\n",
       "      <td>0</td>\n",
       "      <td>2</td>\n",
       "    </tr>\n",
       "    <tr>\n",
       "      <th>sink_2</th>\n",
       "      <td>uint8</td>\n",
       "      <td>2041568</td>\n",
       "      <td>0</td>\n",
       "      <td>2</td>\n",
       "    </tr>\n",
       "    <tr>\n",
       "      <th>sink_3</th>\n",
       "      <td>uint8</td>\n",
       "      <td>2041568</td>\n",
       "      <td>0</td>\n",
       "      <td>2</td>\n",
       "    </tr>\n",
       "    <tr>\n",
       "      <th>sink_4</th>\n",
       "      <td>uint8</td>\n",
       "      <td>2041568</td>\n",
       "      <td>0</td>\n",
       "      <td>2</td>\n",
       "    </tr>\n",
       "    <tr>\n",
       "      <th>sink_5</th>\n",
       "      <td>uint8</td>\n",
       "      <td>2041568</td>\n",
       "      <td>0</td>\n",
       "      <td>2</td>\n",
       "    </tr>\n",
       "    <tr>\n",
       "      <th>sink_6</th>\n",
       "      <td>uint8</td>\n",
       "      <td>2041568</td>\n",
       "      <td>0</td>\n",
       "      <td>2</td>\n",
       "    </tr>\n",
       "    <tr>\n",
       "      <th>sink_7</th>\n",
       "      <td>uint8</td>\n",
       "      <td>2041568</td>\n",
       "      <td>0</td>\n",
       "      <td>2</td>\n",
       "    </tr>\n",
       "  </tbody>\n",
       "</table>\n",
       "</div>"
      ],
      "text/plain": [
       "                                   dtypes    count  nulls  nunique\n",
       "user_id                            object  2041568      0    95388\n",
       "user_creation_time    datetime64[ns, UTC]  2041568      0    95384\n",
       "platform                           object  2041568      0        2\n",
       "event_time            datetime64[ns, UTC]  2041568      0  2040261\n",
       "sink_channel                       object  2041568      0        7\n",
       "amount_spent                      float64  2041568      0       54\n",
       "coins_balance                     float64  2041544     24    31843\n",
       "event_hour                          int64  2041568      0       24\n",
       "event_weekday                       int64  2041568      0        7\n",
       "event_weekdate_short               object  2041568      0        5\n",
       "event_time_short                   object  2041568      0       28\n",
       "sink_1                              uint8  2041568      0        2\n",
       "sink_2                              uint8  2041568      0        2\n",
       "sink_3                              uint8  2041568      0        2\n",
       "sink_4                              uint8  2041568      0        2\n",
       "sink_5                              uint8  2041568      0        2\n",
       "sink_6                              uint8  2041568      0        2\n",
       "sink_7                              uint8  2041568      0        2"
      ]
     },
     "execution_count": 180,
     "metadata": {},
     "output_type": "execute_result"
    }
   ],
   "source": [
    "get_df_metadata(df)"
   ]
  },
  {
   "cell_type": "code",
   "execution_count": 170,
   "metadata": {
    "ExecuteTime": {
     "end_time": "2019-07-23T18:06:53.039648Z",
     "start_time": "2019-07-23T18:06:53.005593Z"
    }
   },
   "outputs": [
    {
     "data": {
      "text/html": [
       "<div>\n",
       "<style scoped>\n",
       "    .dataframe tbody tr th:only-of-type {\n",
       "        vertical-align: middle;\n",
       "    }\n",
       "\n",
       "    .dataframe tbody tr th {\n",
       "        vertical-align: top;\n",
       "    }\n",
       "\n",
       "    .dataframe thead th {\n",
       "        text-align: right;\n",
       "    }\n",
       "</style>\n",
       "<table border=\"1\" class=\"dataframe\">\n",
       "  <thead>\n",
       "    <tr style=\"text-align: right;\">\n",
       "      <th></th>\n",
       "      <th>dtypes</th>\n",
       "      <th>count</th>\n",
       "      <th>nulls</th>\n",
       "      <th>nunique</th>\n",
       "    </tr>\n",
       "  </thead>\n",
       "  <tbody>\n",
       "    <tr>\n",
       "      <th>user_id</th>\n",
       "      <td>object</td>\n",
       "      <td>24</td>\n",
       "      <td>0</td>\n",
       "      <td>3</td>\n",
       "    </tr>\n",
       "    <tr>\n",
       "      <th>user_creation_time</th>\n",
       "      <td>datetime64[ns, UTC]</td>\n",
       "      <td>24</td>\n",
       "      <td>0</td>\n",
       "      <td>3</td>\n",
       "    </tr>\n",
       "    <tr>\n",
       "      <th>platform</th>\n",
       "      <td>object</td>\n",
       "      <td>24</td>\n",
       "      <td>0</td>\n",
       "      <td>1</td>\n",
       "    </tr>\n",
       "    <tr>\n",
       "      <th>event_time</th>\n",
       "      <td>datetime64[ns, UTC]</td>\n",
       "      <td>24</td>\n",
       "      <td>0</td>\n",
       "      <td>24</td>\n",
       "    </tr>\n",
       "    <tr>\n",
       "      <th>sink_channel</th>\n",
       "      <td>object</td>\n",
       "      <td>24</td>\n",
       "      <td>0</td>\n",
       "      <td>2</td>\n",
       "    </tr>\n",
       "    <tr>\n",
       "      <th>amount_spent</th>\n",
       "      <td>float64</td>\n",
       "      <td>24</td>\n",
       "      <td>0</td>\n",
       "      <td>6</td>\n",
       "    </tr>\n",
       "    <tr>\n",
       "      <th>coins_balance</th>\n",
       "      <td>float64</td>\n",
       "      <td>0</td>\n",
       "      <td>24</td>\n",
       "      <td>0</td>\n",
       "    </tr>\n",
       "    <tr>\n",
       "      <th>event_hour</th>\n",
       "      <td>int64</td>\n",
       "      <td>24</td>\n",
       "      <td>0</td>\n",
       "      <td>7</td>\n",
       "    </tr>\n",
       "    <tr>\n",
       "      <th>event_weekday</th>\n",
       "      <td>int64</td>\n",
       "      <td>24</td>\n",
       "      <td>0</td>\n",
       "      <td>5</td>\n",
       "    </tr>\n",
       "    <tr>\n",
       "      <th>event_weekdate_short</th>\n",
       "      <td>object</td>\n",
       "      <td>24</td>\n",
       "      <td>0</td>\n",
       "      <td>4</td>\n",
       "    </tr>\n",
       "    <tr>\n",
       "      <th>event_time_short</th>\n",
       "      <td>object</td>\n",
       "      <td>24</td>\n",
       "      <td>0</td>\n",
       "      <td>6</td>\n",
       "    </tr>\n",
       "    <tr>\n",
       "      <th>sink_1</th>\n",
       "      <td>uint8</td>\n",
       "      <td>24</td>\n",
       "      <td>0</td>\n",
       "      <td>2</td>\n",
       "    </tr>\n",
       "    <tr>\n",
       "      <th>sink_2</th>\n",
       "      <td>uint8</td>\n",
       "      <td>24</td>\n",
       "      <td>0</td>\n",
       "      <td>2</td>\n",
       "    </tr>\n",
       "    <tr>\n",
       "      <th>sink_3</th>\n",
       "      <td>uint8</td>\n",
       "      <td>24</td>\n",
       "      <td>0</td>\n",
       "      <td>1</td>\n",
       "    </tr>\n",
       "    <tr>\n",
       "      <th>sink_4</th>\n",
       "      <td>uint8</td>\n",
       "      <td>24</td>\n",
       "      <td>0</td>\n",
       "      <td>1</td>\n",
       "    </tr>\n",
       "    <tr>\n",
       "      <th>sink_5</th>\n",
       "      <td>uint8</td>\n",
       "      <td>24</td>\n",
       "      <td>0</td>\n",
       "      <td>1</td>\n",
       "    </tr>\n",
       "    <tr>\n",
       "      <th>sink_6</th>\n",
       "      <td>uint8</td>\n",
       "      <td>24</td>\n",
       "      <td>0</td>\n",
       "      <td>1</td>\n",
       "    </tr>\n",
       "    <tr>\n",
       "      <th>sink_7</th>\n",
       "      <td>uint8</td>\n",
       "      <td>24</td>\n",
       "      <td>0</td>\n",
       "      <td>1</td>\n",
       "    </tr>\n",
       "  </tbody>\n",
       "</table>\n",
       "</div>"
      ],
      "text/plain": [
       "                                   dtypes  count  nulls  nunique\n",
       "user_id                            object     24      0        3\n",
       "user_creation_time    datetime64[ns, UTC]     24      0        3\n",
       "platform                           object     24      0        1\n",
       "event_time            datetime64[ns, UTC]     24      0       24\n",
       "sink_channel                       object     24      0        2\n",
       "amount_spent                      float64     24      0        6\n",
       "coins_balance                     float64      0     24        0\n",
       "event_hour                          int64     24      0        7\n",
       "event_weekday                       int64     24      0        5\n",
       "event_weekdate_short               object     24      0        4\n",
       "event_time_short                   object     24      0        6\n",
       "sink_1                              uint8     24      0        2\n",
       "sink_2                              uint8     24      0        2\n",
       "sink_3                              uint8     24      0        1\n",
       "sink_4                              uint8     24      0        1\n",
       "sink_5                              uint8     24      0        1\n",
       "sink_6                              uint8     24      0        1\n",
       "sink_7                              uint8     24      0        1"
      ]
     },
     "execution_count": 170,
     "metadata": {},
     "output_type": "execute_result"
    }
   ],
   "source": [
    "balance_is_null = df.coins_balance.isnull()\n",
    "\n",
    "get_df_metadata(df[balance_is_null])\n"
   ]
  },
  {
   "cell_type": "code",
   "execution_count": 6,
   "metadata": {
    "ExecuteTime": {
     "end_time": "2019-07-23T11:13:24.112357Z",
     "start_time": "2019-07-23T11:13:24.051547Z"
    }
   },
   "outputs": [
    {
     "data": {
      "text/plain": [
       "(895, 7)"
      ]
     },
     "execution_count": 6,
     "metadata": {},
     "output_type": "execute_result"
    }
   ],
   "source": [
    "user_null_balance = df.user_id.isin(df[balance_is_null].user_id.values)\n",
    "df[user_null_balance].shape"
   ]
  },
  {
   "cell_type": "markdown",
   "metadata": {},
   "source": [
    "# Rangos de tiempo "
   ]
  },
  {
   "cell_type": "markdown",
   "metadata": {},
   "source": [
    "## de Eventos"
   ]
  },
  {
   "cell_type": "code",
   "execution_count": 7,
   "metadata": {
    "ExecuteTime": {
     "end_time": "2019-07-23T11:13:24.378715Z",
     "start_time": "2019-07-23T11:13:24.114383Z"
    }
   },
   "outputs": [
    {
     "data": {
      "text/plain": [
       "'2018-07-01T00:06:23.328Z'"
      ]
     },
     "metadata": {},
     "output_type": "display_data"
    },
    {
     "data": {
      "text/plain": [
       "'2018-07-28T23:59:59.988Z'"
      ]
     },
     "metadata": {},
     "output_type": "display_data"
    }
   ],
   "source": [
    "display(df.event_time.min())\n",
    "display(df.event_time.max())"
   ]
  },
  {
   "cell_type": "markdown",
   "metadata": {},
   "source": [
    "## de creación de usuarios "
   ]
  },
  {
   "cell_type": "code",
   "execution_count": 8,
   "metadata": {
    "ExecuteTime": {
     "end_time": "2019-07-23T11:13:24.618635Z",
     "start_time": "2019-07-23T11:13:24.380638Z"
    }
   },
   "outputs": [
    {
     "data": {
      "text/plain": [
       "'2018-07-01T00:00:04.311Z'"
      ]
     },
     "metadata": {},
     "output_type": "display_data"
    },
    {
     "data": {
      "text/plain": [
       "'2018-07-21T23:59:55.658Z'"
      ]
     },
     "metadata": {},
     "output_type": "display_data"
    }
   ],
   "source": [
    "display(df.user_creation_time.min())\n",
    "display(df.user_creation_time.max())"
   ]
  },
  {
   "cell_type": "markdown",
   "metadata": {},
   "source": [
    "# Eventos con importe cero"
   ]
  },
  {
   "cell_type": "code",
   "execution_count": 211,
   "metadata": {
    "ExecuteTime": {
     "end_time": "2019-07-23T19:00:12.137742Z",
     "start_time": "2019-07-23T19:00:11.985850Z"
    }
   },
   "outputs": [
    {
     "data": {
      "text/plain": [
       "Android    87305\n",
       "iOS            4\n",
       "Name: platform, dtype: int64"
      ]
     },
     "metadata": {},
     "output_type": "display_data"
    },
    {
     "data": {
      "text/plain": [
       "sink_1    87309\n",
       "Name: sink_channel, dtype: int64"
      ]
     },
     "metadata": {},
     "output_type": "display_data"
    },
    {
     "data": {
      "text/plain": [
       "15507"
      ]
     },
     "metadata": {},
     "output_type": "display_data"
    }
   ],
   "source": [
    "amount_is_zero = df.amount_spent == 0\n",
    "\n",
    "display(df[amount_is_zero].platform.value_counts())\n",
    "\n",
    "display(df[amount_is_zero].sink_channel.value_counts())\n",
    "\n",
    "display(df[amount_is_zero].user_id.nunique())"
   ]
  },
  {
   "cell_type": "markdown",
   "metadata": {},
   "source": [
    "# Primer evento "
   ]
  },
  {
   "cell_type": "code",
   "execution_count": 9,
   "metadata": {
    "ExecuteTime": {
     "end_time": "2019-07-23T11:13:33.550620Z",
     "start_time": "2019-07-23T11:13:24.621172Z"
    }
   },
   "outputs": [],
   "source": [
    "df_usr_first_event = df.sort_values(['user_creation_time', 'event_time']).drop_duplicates('user_id', keep='first')"
   ]
  },
  {
   "cell_type": "code",
   "execution_count": 182,
   "metadata": {
    "ExecuteTime": {
     "end_time": "2019-07-23T18:43:30.405144Z",
     "start_time": "2019-07-23T18:43:26.796452Z"
    }
   },
   "outputs": [],
   "source": [
    "df_usr_first_event['event_time'] = pd.DatetimeIndex(df_usr_first_event.event_time)\n",
    "df_usr_first_event['user_creation_time'] = pd.DatetimeIndex(df_usr_first_event.user_creation_time)"
   ]
  },
  {
   "cell_type": "code",
   "execution_count": 186,
   "metadata": {
    "ExecuteTime": {
     "end_time": "2019-07-23T18:43:43.035956Z",
     "start_time": "2019-07-23T18:43:42.882152Z"
    }
   },
   "outputs": [
    {
     "data": {
      "text/html": [
       "<div>\n",
       "<style scoped>\n",
       "    .dataframe tbody tr th:only-of-type {\n",
       "        vertical-align: middle;\n",
       "    }\n",
       "\n",
       "    .dataframe tbody tr th {\n",
       "        vertical-align: top;\n",
       "    }\n",
       "\n",
       "    .dataframe thead th {\n",
       "        text-align: right;\n",
       "    }\n",
       "</style>\n",
       "<table border=\"1\" class=\"dataframe\">\n",
       "  <thead>\n",
       "    <tr style=\"text-align: right;\">\n",
       "      <th></th>\n",
       "      <th>dtypes</th>\n",
       "      <th>count</th>\n",
       "      <th>nulls</th>\n",
       "      <th>nunique</th>\n",
       "    </tr>\n",
       "  </thead>\n",
       "  <tbody>\n",
       "    <tr>\n",
       "      <th>user_id</th>\n",
       "      <td>object</td>\n",
       "      <td>95388</td>\n",
       "      <td>0</td>\n",
       "      <td>95388</td>\n",
       "    </tr>\n",
       "    <tr>\n",
       "      <th>user_creation_time</th>\n",
       "      <td>datetime64[ns, UTC]</td>\n",
       "      <td>95388</td>\n",
       "      <td>0</td>\n",
       "      <td>95382</td>\n",
       "    </tr>\n",
       "    <tr>\n",
       "      <th>platform</th>\n",
       "      <td>object</td>\n",
       "      <td>95388</td>\n",
       "      <td>0</td>\n",
       "      <td>2</td>\n",
       "    </tr>\n",
       "    <tr>\n",
       "      <th>event_time</th>\n",
       "      <td>datetime64[ns, UTC]</td>\n",
       "      <td>95388</td>\n",
       "      <td>0</td>\n",
       "      <td>95386</td>\n",
       "    </tr>\n",
       "    <tr>\n",
       "      <th>sink_channel</th>\n",
       "      <td>object</td>\n",
       "      <td>95388</td>\n",
       "      <td>0</td>\n",
       "      <td>7</td>\n",
       "    </tr>\n",
       "    <tr>\n",
       "      <th>amount_spent</th>\n",
       "      <td>float64</td>\n",
       "      <td>95388</td>\n",
       "      <td>0</td>\n",
       "      <td>28</td>\n",
       "    </tr>\n",
       "    <tr>\n",
       "      <th>coins_balance</th>\n",
       "      <td>float64</td>\n",
       "      <td>95385</td>\n",
       "      <td>3</td>\n",
       "      <td>7136</td>\n",
       "    </tr>\n",
       "    <tr>\n",
       "      <th>first_event_delay</th>\n",
       "      <td>timedelta64[ns]</td>\n",
       "      <td>95388</td>\n",
       "      <td>0</td>\n",
       "      <td>94986</td>\n",
       "    </tr>\n",
       "  </tbody>\n",
       "</table>\n",
       "</div>"
      ],
      "text/plain": [
       "                                 dtypes  count  nulls  nunique\n",
       "user_id                          object  95388      0    95388\n",
       "user_creation_time  datetime64[ns, UTC]  95388      0    95382\n",
       "platform                         object  95388      0        2\n",
       "event_time          datetime64[ns, UTC]  95388      0    95386\n",
       "sink_channel                     object  95388      0        7\n",
       "amount_spent                    float64  95388      0       28\n",
       "coins_balance                   float64  95385      3     7136\n",
       "first_event_delay       timedelta64[ns]  95388      0    94986"
      ]
     },
     "execution_count": 186,
     "metadata": {},
     "output_type": "execute_result"
    }
   ],
   "source": [
    "get_df_metadata(df_usr_first_event)"
   ]
  },
  {
   "cell_type": "code",
   "execution_count": 204,
   "metadata": {
    "ExecuteTime": {
     "end_time": "2019-07-23T18:47:35.640437Z",
     "start_time": "2019-07-23T18:47:35.630671Z"
    }
   },
   "outputs": [],
   "source": [
    "df_usr_first_event['first_event_delay'] = (df_usr_first_event.event_time - df_usr_first_event.user_creation_time).dt.seconds"
   ]
  },
  {
   "cell_type": "code",
   "execution_count": 209,
   "metadata": {
    "ExecuteTime": {
     "end_time": "2019-07-23T18:51:14.129341Z",
     "start_time": "2019-07-23T18:51:14.109012Z"
    }
   },
   "outputs": [
    {
     "data": {
      "text/plain": [
       "6.456566691943547"
      ]
     },
     "execution_count": 209,
     "metadata": {},
     "output_type": "execute_result"
    }
   ],
   "source": [
    "df_usr_first_event.first_event_delay.mean() /60 /60"
   ]
  },
  {
   "cell_type": "code",
   "execution_count": 95,
   "metadata": {
    "ExecuteTime": {
     "end_time": "2019-07-23T14:28:30.489971Z",
     "start_time": "2019-07-23T14:28:30.405240Z"
    }
   },
   "outputs": [
    {
     "data": {
      "text/html": [
       "<div>\n",
       "<style scoped>\n",
       "    .dataframe tbody tr th:only-of-type {\n",
       "        vertical-align: middle;\n",
       "    }\n",
       "\n",
       "    .dataframe tbody tr th {\n",
       "        vertical-align: top;\n",
       "    }\n",
       "\n",
       "    .dataframe thead tr th {\n",
       "        text-align: left;\n",
       "    }\n",
       "\n",
       "    .dataframe thead tr:last-of-type th {\n",
       "        text-align: right;\n",
       "    }\n",
       "</style>\n",
       "<table border=\"1\" class=\"dataframe\">\n",
       "  <thead>\n",
       "    <tr>\n",
       "      <th></th>\n",
       "      <th>user_id</th>\n",
       "      <th colspan=\"2\" halign=\"left\">amount_spent</th>\n",
       "    </tr>\n",
       "    <tr>\n",
       "      <th></th>\n",
       "      <th>count</th>\n",
       "      <th>mean</th>\n",
       "      <th>nunique</th>\n",
       "    </tr>\n",
       "    <tr>\n",
       "      <th>sink_channel</th>\n",
       "      <th></th>\n",
       "      <th></th>\n",
       "      <th></th>\n",
       "    </tr>\n",
       "  </thead>\n",
       "  <tbody>\n",
       "    <tr>\n",
       "      <th>sink_1</th>\n",
       "      <td>50464</td>\n",
       "      <td>317.382788</td>\n",
       "      <td>6.0</td>\n",
       "    </tr>\n",
       "    <tr>\n",
       "      <th>sink_2</th>\n",
       "      <td>40864</td>\n",
       "      <td>1051.091425</td>\n",
       "      <td>7.0</td>\n",
       "    </tr>\n",
       "    <tr>\n",
       "      <th>sink_3</th>\n",
       "      <td>3572</td>\n",
       "      <td>100.000000</td>\n",
       "      <td>1.0</td>\n",
       "    </tr>\n",
       "    <tr>\n",
       "      <th>sink_4</th>\n",
       "      <td>107</td>\n",
       "      <td>6740.654206</td>\n",
       "      <td>3.0</td>\n",
       "    </tr>\n",
       "    <tr>\n",
       "      <th>sink_5</th>\n",
       "      <td>307</td>\n",
       "      <td>8887.622150</td>\n",
       "      <td>12.0</td>\n",
       "    </tr>\n",
       "    <tr>\n",
       "      <th>sink_6</th>\n",
       "      <td>49</td>\n",
       "      <td>1000.000000</td>\n",
       "      <td>1.0</td>\n",
       "    </tr>\n",
       "    <tr>\n",
       "      <th>sink_7</th>\n",
       "      <td>25</td>\n",
       "      <td>500.000000</td>\n",
       "      <td>1.0</td>\n",
       "    </tr>\n",
       "  </tbody>\n",
       "</table>\n",
       "</div>"
      ],
      "text/plain": [
       "             user_id amount_spent        \n",
       "               count         mean nunique\n",
       "sink_channel                             \n",
       "sink_1         50464   317.382788     6.0\n",
       "sink_2         40864  1051.091425     7.0\n",
       "sink_3          3572   100.000000     1.0\n",
       "sink_4           107  6740.654206     3.0\n",
       "sink_5           307  8887.622150    12.0\n",
       "sink_6            49  1000.000000     1.0\n",
       "sink_7            25   500.000000     1.0"
      ]
     },
     "execution_count": 95,
     "metadata": {},
     "output_type": "execute_result"
    }
   ],
   "source": [
    "df_usr_first_event.groupby('sink_channel').agg({'user_id': pd.Series.count,\n",
    "                                                'amount_spent': [pd.Series.mean, pd.Series.nunique]})"
   ]
  },
  {
   "cell_type": "code",
   "execution_count": 96,
   "metadata": {
    "ExecuteTime": {
     "end_time": "2019-07-23T14:31:20.388539Z",
     "start_time": "2019-07-23T14:31:20.331775Z"
    }
   },
   "outputs": [
    {
     "data": {
      "text/html": [
       "<div>\n",
       "<style scoped>\n",
       "    .dataframe tbody tr th:only-of-type {\n",
       "        vertical-align: middle;\n",
       "    }\n",
       "\n",
       "    .dataframe tbody tr th {\n",
       "        vertical-align: top;\n",
       "    }\n",
       "\n",
       "    .dataframe thead th {\n",
       "        text-align: right;\n",
       "    }\n",
       "</style>\n",
       "<table border=\"1\" class=\"dataframe\">\n",
       "  <thead>\n",
       "    <tr style=\"text-align: right;\">\n",
       "      <th></th>\n",
       "      <th></th>\n",
       "      <th>user_id</th>\n",
       "    </tr>\n",
       "    <tr>\n",
       "      <th>sink_channel</th>\n",
       "      <th>amount_spent</th>\n",
       "      <th></th>\n",
       "    </tr>\n",
       "  </thead>\n",
       "  <tbody>\n",
       "    <tr>\n",
       "      <th rowspan=\"6\" valign=\"top\">sink_1</th>\n",
       "      <th>0.0</th>\n",
       "      <td>5165</td>\n",
       "    </tr>\n",
       "    <tr>\n",
       "      <th>5.0</th>\n",
       "      <td>1</td>\n",
       "    </tr>\n",
       "    <tr>\n",
       "      <th>240.0</th>\n",
       "      <td>15879</td>\n",
       "    </tr>\n",
       "    <tr>\n",
       "      <th>320.0</th>\n",
       "      <td>11943</td>\n",
       "    </tr>\n",
       "    <tr>\n",
       "      <th>400.0</th>\n",
       "      <td>60</td>\n",
       "    </tr>\n",
       "    <tr>\n",
       "      <th>480.0</th>\n",
       "      <td>17416</td>\n",
       "    </tr>\n",
       "    <tr>\n",
       "      <th rowspan=\"7\" valign=\"top\">sink_2</th>\n",
       "      <th>200.0</th>\n",
       "      <td>10792</td>\n",
       "    </tr>\n",
       "    <tr>\n",
       "      <th>800.0</th>\n",
       "      <td>14874</td>\n",
       "    </tr>\n",
       "    <tr>\n",
       "      <th>1000.0</th>\n",
       "      <td>12230</td>\n",
       "    </tr>\n",
       "    <tr>\n",
       "      <th>1200.0</th>\n",
       "      <td>1041</td>\n",
       "    </tr>\n",
       "    <tr>\n",
       "      <th>7000.0</th>\n",
       "      <td>71</td>\n",
       "    </tr>\n",
       "    <tr>\n",
       "      <th>8000.0</th>\n",
       "      <td>1854</td>\n",
       "    </tr>\n",
       "    <tr>\n",
       "      <th>43000.0</th>\n",
       "      <td>2</td>\n",
       "    </tr>\n",
       "    <tr>\n",
       "      <th>sink_3</th>\n",
       "      <th>100.0</th>\n",
       "      <td>3572</td>\n",
       "    </tr>\n",
       "    <tr>\n",
       "      <th rowspan=\"3\" valign=\"top\">sink_4</th>\n",
       "      <th>25.0</th>\n",
       "      <td>44</td>\n",
       "    </tr>\n",
       "    <tr>\n",
       "      <th>50.0</th>\n",
       "      <td>3</td>\n",
       "    </tr>\n",
       "    <tr>\n",
       "      <th>12000.0</th>\n",
       "      <td>60</td>\n",
       "    </tr>\n",
       "    <tr>\n",
       "      <th rowspan=\"12\" valign=\"top\">sink_5</th>\n",
       "      <th>5500.0</th>\n",
       "      <td>146</td>\n",
       "    </tr>\n",
       "    <tr>\n",
       "      <th>6500.0</th>\n",
       "      <td>57</td>\n",
       "    </tr>\n",
       "    <tr>\n",
       "      <th>8000.0</th>\n",
       "      <td>14</td>\n",
       "    </tr>\n",
       "    <tr>\n",
       "      <th>10000.0</th>\n",
       "      <td>62</td>\n",
       "    </tr>\n",
       "    <tr>\n",
       "      <th>11000.0</th>\n",
       "      <td>11</td>\n",
       "    </tr>\n",
       "    <tr>\n",
       "      <th>12000.0</th>\n",
       "      <td>3</td>\n",
       "    </tr>\n",
       "    <tr>\n",
       "      <th>13000.0</th>\n",
       "      <td>4</td>\n",
       "    </tr>\n",
       "    <tr>\n",
       "      <th>32000.0</th>\n",
       "      <td>4</td>\n",
       "    </tr>\n",
       "    <tr>\n",
       "      <th>75000.0</th>\n",
       "      <td>2</td>\n",
       "    </tr>\n",
       "    <tr>\n",
       "      <th>80000.0</th>\n",
       "      <td>2</td>\n",
       "    </tr>\n",
       "    <tr>\n",
       "      <th>85000.0</th>\n",
       "      <td>1</td>\n",
       "    </tr>\n",
       "    <tr>\n",
       "      <th>91000.0</th>\n",
       "      <td>1</td>\n",
       "    </tr>\n",
       "    <tr>\n",
       "      <th>sink_6</th>\n",
       "      <th>1000.0</th>\n",
       "      <td>49</td>\n",
       "    </tr>\n",
       "    <tr>\n",
       "      <th>sink_7</th>\n",
       "      <th>500.0</th>\n",
       "      <td>25</td>\n",
       "    </tr>\n",
       "  </tbody>\n",
       "</table>\n",
       "</div>"
      ],
      "text/plain": [
       "                           user_id\n",
       "sink_channel amount_spent         \n",
       "sink_1       0.0              5165\n",
       "             5.0                 1\n",
       "             240.0           15879\n",
       "             320.0           11943\n",
       "             400.0              60\n",
       "             480.0           17416\n",
       "sink_2       200.0           10792\n",
       "             800.0           14874\n",
       "             1000.0          12230\n",
       "             1200.0           1041\n",
       "             7000.0             71\n",
       "             8000.0           1854\n",
       "             43000.0             2\n",
       "sink_3       100.0            3572\n",
       "sink_4       25.0               44\n",
       "             50.0                3\n",
       "             12000.0            60\n",
       "sink_5       5500.0            146\n",
       "             6500.0             57\n",
       "             8000.0             14\n",
       "             10000.0            62\n",
       "             11000.0            11\n",
       "             12000.0             3\n",
       "             13000.0             4\n",
       "             32000.0             4\n",
       "             75000.0             2\n",
       "             80000.0             2\n",
       "             85000.0             1\n",
       "             91000.0             1\n",
       "sink_6       1000.0             49\n",
       "sink_7       500.0              25"
      ]
     },
     "execution_count": 96,
     "metadata": {},
     "output_type": "execute_result"
    }
   ],
   "source": [
    "df_usr_first_event.groupby(['sink_channel', 'amount_spent']).agg({'user_id': pd.Series.count,})"
   ]
  },
  {
   "cell_type": "code",
   "execution_count": null,
   "metadata": {},
   "outputs": [],
   "source": [
    "pd.date_range(start)"
   ]
  },
  {
   "cell_type": "code",
   "execution_count": 18,
   "metadata": {
    "ExecuteTime": {
     "end_time": "2019-07-23T11:46:19.171739Z",
     "start_time": "2019-07-23T11:46:18.349811Z"
    }
   },
   "outputs": [
    {
     "data": {
      "text/html": [
       "<div>\n",
       "<style scoped>\n",
       "    .dataframe tbody tr th:only-of-type {\n",
       "        vertical-align: middle;\n",
       "    }\n",
       "\n",
       "    .dataframe tbody tr th {\n",
       "        vertical-align: top;\n",
       "    }\n",
       "\n",
       "    .dataframe thead th {\n",
       "        text-align: right;\n",
       "    }\n",
       "</style>\n",
       "<table border=\"1\" class=\"dataframe\">\n",
       "  <thead>\n",
       "    <tr style=\"text-align: right;\">\n",
       "      <th></th>\n",
       "      <th>amount_spent</th>\n",
       "      <th>coins_balance</th>\n",
       "    </tr>\n",
       "  </thead>\n",
       "  <tbody>\n",
       "    <tr>\n",
       "      <th>count</th>\n",
       "      <td>2.041568e+06</td>\n",
       "      <td>2.041544e+06</td>\n",
       "    </tr>\n",
       "    <tr>\n",
       "      <th>mean</th>\n",
       "      <td>4.365567e+02</td>\n",
       "      <td>1.264996e+15</td>\n",
       "    </tr>\n",
       "    <tr>\n",
       "      <th>std</th>\n",
       "      <td>9.303814e+02</td>\n",
       "      <td>1.527529e+17</td>\n",
       "    </tr>\n",
       "    <tr>\n",
       "      <th>min</th>\n",
       "      <td>0.000000e+00</td>\n",
       "      <td>-1.944500e+04</td>\n",
       "    </tr>\n",
       "    <tr>\n",
       "      <th>25%</th>\n",
       "      <td>2.400000e+02</td>\n",
       "      <td>1.425000e+03</td>\n",
       "    </tr>\n",
       "    <tr>\n",
       "      <th>50%</th>\n",
       "      <td>2.400000e+02</td>\n",
       "      <td>4.160000e+03</td>\n",
       "    </tr>\n",
       "    <tr>\n",
       "      <th>75%</th>\n",
       "      <td>4.800000e+02</td>\n",
       "      <td>1.121500e+04</td>\n",
       "    </tr>\n",
       "    <tr>\n",
       "      <th>max</th>\n",
       "      <td>1.200000e+05</td>\n",
       "      <td>1.844674e+19</td>\n",
       "    </tr>\n",
       "  </tbody>\n",
       "</table>\n",
       "</div>"
      ],
      "text/plain": [
       "       amount_spent  coins_balance\n",
       "count  2.041568e+06   2.041544e+06\n",
       "mean   4.365567e+02   1.264996e+15\n",
       "std    9.303814e+02   1.527529e+17\n",
       "min    0.000000e+00  -1.944500e+04\n",
       "25%    2.400000e+02   1.425000e+03\n",
       "50%    2.400000e+02   4.160000e+03\n",
       "75%    4.800000e+02   1.121500e+04\n",
       "max    1.200000e+05   1.844674e+19"
      ]
     },
     "execution_count": 18,
     "metadata": {},
     "output_type": "execute_result"
    }
   ],
   "source": [
    "# df.sink_channel.value_counts()\n",
    "\n",
    "sink_is_7 = df.sink_channel.str.contains('sink_7')\n",
    "\n",
    "# df[sink_is_7].amount_spent\n",
    "\n",
    "df[['amount_spent','coins_balance']].describe()"
   ]
  },
  {
   "cell_type": "markdown",
   "metadata": {
    "cell_style": "center"
   },
   "source": [
    "# Cleaning "
   ]
  },
  {
   "cell_type": "code",
   "execution_count": null,
   "metadata": {},
   "outputs": [],
   "source": []
  },
  {
   "cell_type": "markdown",
   "metadata": {},
   "source": [
    "# Medidas"
   ]
  },
  {
   "cell_type": "markdown",
   "metadata": {},
   "source": [
    "## Media diaria de uso de monedas"
   ]
  },
  {
   "cell_type": "code",
   "execution_count": 217,
   "metadata": {
    "ExecuteTime": {
     "end_time": "2019-07-23T19:16:55.113800Z",
     "start_time": "2019-07-23T19:16:54.664192Z"
    }
   },
   "outputs": [
    {
     "data": {
      "text/html": [
       "<div>\n",
       "<style scoped>\n",
       "    .dataframe tbody tr th:only-of-type {\n",
       "        vertical-align: middle;\n",
       "    }\n",
       "\n",
       "    .dataframe tbody tr th {\n",
       "        vertical-align: top;\n",
       "    }\n",
       "\n",
       "    .dataframe thead tr th {\n",
       "        text-align: left;\n",
       "    }\n",
       "\n",
       "    .dataframe thead tr:last-of-type th {\n",
       "        text-align: right;\n",
       "    }\n",
       "</style>\n",
       "<table border=\"1\" class=\"dataframe\">\n",
       "  <thead>\n",
       "    <tr>\n",
       "      <th></th>\n",
       "      <th colspan=\"4\" halign=\"left\">amount_spent</th>\n",
       "    </tr>\n",
       "    <tr>\n",
       "      <th></th>\n",
       "      <th colspan=\"2\" halign=\"left\">count</th>\n",
       "      <th colspan=\"2\" halign=\"left\">mean</th>\n",
       "    </tr>\n",
       "    <tr>\n",
       "      <th>platform</th>\n",
       "      <th>Android</th>\n",
       "      <th>iOS</th>\n",
       "      <th>Android</th>\n",
       "      <th>iOS</th>\n",
       "    </tr>\n",
       "    <tr>\n",
       "      <th>event_time_short</th>\n",
       "      <th></th>\n",
       "      <th></th>\n",
       "      <th></th>\n",
       "      <th></th>\n",
       "    </tr>\n",
       "  </thead>\n",
       "  <tbody>\n",
       "    <tr>\n",
       "      <th>2018-07-01</th>\n",
       "      <td>19782.0</td>\n",
       "      <td>2008.0</td>\n",
       "      <td>442.551815</td>\n",
       "      <td>573.169821</td>\n",
       "    </tr>\n",
       "    <tr>\n",
       "      <th>2018-07-02</th>\n",
       "      <td>24852.0</td>\n",
       "      <td>2357.0</td>\n",
       "      <td>464.811685</td>\n",
       "      <td>659.806958</td>\n",
       "    </tr>\n",
       "    <tr>\n",
       "      <th>2018-07-03</th>\n",
       "      <td>29100.0</td>\n",
       "      <td>3060.0</td>\n",
       "      <td>503.731959</td>\n",
       "      <td>674.864379</td>\n",
       "    </tr>\n",
       "    <tr>\n",
       "      <th>2018-07-04</th>\n",
       "      <td>31668.0</td>\n",
       "      <td>2629.0</td>\n",
       "      <td>443.751421</td>\n",
       "      <td>596.896158</td>\n",
       "    </tr>\n",
       "    <tr>\n",
       "      <th>2018-07-05</th>\n",
       "      <td>33427.0</td>\n",
       "      <td>3418.0</td>\n",
       "      <td>443.501959</td>\n",
       "      <td>578.698069</td>\n",
       "    </tr>\n",
       "    <tr>\n",
       "      <th>2018-07-06</th>\n",
       "      <td>37022.0</td>\n",
       "      <td>3828.0</td>\n",
       "      <td>467.195181</td>\n",
       "      <td>588.885841</td>\n",
       "    </tr>\n",
       "    <tr>\n",
       "      <th>2018-07-07</th>\n",
       "      <td>58004.0</td>\n",
       "      <td>4800.0</td>\n",
       "      <td>534.650369</td>\n",
       "      <td>751.591667</td>\n",
       "    </tr>\n",
       "    <tr>\n",
       "      <th>2018-07-08</th>\n",
       "      <td>72304.0</td>\n",
       "      <td>6422.0</td>\n",
       "      <td>510.384488</td>\n",
       "      <td>777.032856</td>\n",
       "    </tr>\n",
       "    <tr>\n",
       "      <th>2018-07-09</th>\n",
       "      <td>79589.0</td>\n",
       "      <td>7426.0</td>\n",
       "      <td>428.000854</td>\n",
       "      <td>595.051172</td>\n",
       "    </tr>\n",
       "    <tr>\n",
       "      <th>2018-07-10</th>\n",
       "      <td>70944.0</td>\n",
       "      <td>7083.0</td>\n",
       "      <td>420.376635</td>\n",
       "      <td>491.474658</td>\n",
       "    </tr>\n",
       "    <tr>\n",
       "      <th>2018-07-11</th>\n",
       "      <td>58524.0</td>\n",
       "      <td>6271.0</td>\n",
       "      <td>433.783747</td>\n",
       "      <td>444.739276</td>\n",
       "    </tr>\n",
       "    <tr>\n",
       "      <th>2018-07-12</th>\n",
       "      <td>54404.0</td>\n",
       "      <td>5824.0</td>\n",
       "      <td>403.954489</td>\n",
       "      <td>458.270089</td>\n",
       "    </tr>\n",
       "    <tr>\n",
       "      <th>2018-07-13</th>\n",
       "      <td>55371.0</td>\n",
       "      <td>5566.0</td>\n",
       "      <td>422.666739</td>\n",
       "      <td>487.651815</td>\n",
       "    </tr>\n",
       "    <tr>\n",
       "      <th>2018-07-14</th>\n",
       "      <td>76506.0</td>\n",
       "      <td>7626.0</td>\n",
       "      <td>447.203095</td>\n",
       "      <td>511.825334</td>\n",
       "    </tr>\n",
       "    <tr>\n",
       "      <th>2018-07-15</th>\n",
       "      <td>93261.0</td>\n",
       "      <td>8664.0</td>\n",
       "      <td>445.324627</td>\n",
       "      <td>501.550669</td>\n",
       "    </tr>\n",
       "    <tr>\n",
       "      <th>2018-07-16</th>\n",
       "      <td>98271.0</td>\n",
       "      <td>8111.0</td>\n",
       "      <td>441.324501</td>\n",
       "      <td>514.555542</td>\n",
       "    </tr>\n",
       "    <tr>\n",
       "      <th>2018-07-17</th>\n",
       "      <td>103737.0</td>\n",
       "      <td>8902.0</td>\n",
       "      <td>425.370311</td>\n",
       "      <td>440.240957</td>\n",
       "    </tr>\n",
       "    <tr>\n",
       "      <th>2018-07-18</th>\n",
       "      <td>101973.0</td>\n",
       "      <td>8790.0</td>\n",
       "      <td>411.397723</td>\n",
       "      <td>489.349261</td>\n",
       "    </tr>\n",
       "    <tr>\n",
       "      <th>2018-07-19</th>\n",
       "      <td>105759.0</td>\n",
       "      <td>8981.0</td>\n",
       "      <td>410.809671</td>\n",
       "      <td>462.068255</td>\n",
       "    </tr>\n",
       "    <tr>\n",
       "      <th>2018-07-20</th>\n",
       "      <td>95872.0</td>\n",
       "      <td>7808.0</td>\n",
       "      <td>412.611399</td>\n",
       "      <td>451.331327</td>\n",
       "    </tr>\n",
       "    <tr>\n",
       "      <th>2018-07-21</th>\n",
       "      <td>96188.0</td>\n",
       "      <td>6776.0</td>\n",
       "      <td>421.976338</td>\n",
       "      <td>462.372344</td>\n",
       "    </tr>\n",
       "    <tr>\n",
       "      <th>2018-07-22</th>\n",
       "      <td>99155.0</td>\n",
       "      <td>8469.0</td>\n",
       "      <td>392.026020</td>\n",
       "      <td>425.130476</td>\n",
       "    </tr>\n",
       "    <tr>\n",
       "      <th>2018-07-23</th>\n",
       "      <td>81045.0</td>\n",
       "      <td>7477.0</td>\n",
       "      <td>414.830279</td>\n",
       "      <td>485.069547</td>\n",
       "    </tr>\n",
       "    <tr>\n",
       "      <th>2018-07-24</th>\n",
       "      <td>70925.0</td>\n",
       "      <td>7088.0</td>\n",
       "      <td>445.385689</td>\n",
       "      <td>475.602427</td>\n",
       "    </tr>\n",
       "    <tr>\n",
       "      <th>2018-07-25</th>\n",
       "      <td>59824.0</td>\n",
       "      <td>6016.0</td>\n",
       "      <td>386.886200</td>\n",
       "      <td>493.930352</td>\n",
       "    </tr>\n",
       "    <tr>\n",
       "      <th>2018-07-26</th>\n",
       "      <td>55641.0</td>\n",
       "      <td>5131.0</td>\n",
       "      <td>399.262414</td>\n",
       "      <td>473.173845</td>\n",
       "    </tr>\n",
       "    <tr>\n",
       "      <th>2018-07-27</th>\n",
       "      <td>49362.0</td>\n",
       "      <td>4522.0</td>\n",
       "      <td>389.382521</td>\n",
       "      <td>485.988501</td>\n",
       "    </tr>\n",
       "    <tr>\n",
       "      <th>2018-07-28</th>\n",
       "      <td>58694.0</td>\n",
       "      <td>5311.0</td>\n",
       "      <td>390.292705</td>\n",
       "      <td>434.840896</td>\n",
       "    </tr>\n",
       "  </tbody>\n",
       "</table>\n",
       "</div>"
      ],
      "text/plain": [
       "                 amount_spent                                \n",
       "                        count                mean            \n",
       "platform              Android     iOS     Android         iOS\n",
       "event_time_short                                             \n",
       "2018-07-01            19782.0  2008.0  442.551815  573.169821\n",
       "2018-07-02            24852.0  2357.0  464.811685  659.806958\n",
       "2018-07-03            29100.0  3060.0  503.731959  674.864379\n",
       "2018-07-04            31668.0  2629.0  443.751421  596.896158\n",
       "2018-07-05            33427.0  3418.0  443.501959  578.698069\n",
       "2018-07-06            37022.0  3828.0  467.195181  588.885841\n",
       "2018-07-07            58004.0  4800.0  534.650369  751.591667\n",
       "2018-07-08            72304.0  6422.0  510.384488  777.032856\n",
       "2018-07-09            79589.0  7426.0  428.000854  595.051172\n",
       "2018-07-10            70944.0  7083.0  420.376635  491.474658\n",
       "2018-07-11            58524.0  6271.0  433.783747  444.739276\n",
       "2018-07-12            54404.0  5824.0  403.954489  458.270089\n",
       "2018-07-13            55371.0  5566.0  422.666739  487.651815\n",
       "2018-07-14            76506.0  7626.0  447.203095  511.825334\n",
       "2018-07-15            93261.0  8664.0  445.324627  501.550669\n",
       "2018-07-16            98271.0  8111.0  441.324501  514.555542\n",
       "2018-07-17           103737.0  8902.0  425.370311  440.240957\n",
       "2018-07-18           101973.0  8790.0  411.397723  489.349261\n",
       "2018-07-19           105759.0  8981.0  410.809671  462.068255\n",
       "2018-07-20            95872.0  7808.0  412.611399  451.331327\n",
       "2018-07-21            96188.0  6776.0  421.976338  462.372344\n",
       "2018-07-22            99155.0  8469.0  392.026020  425.130476\n",
       "2018-07-23            81045.0  7477.0  414.830279  485.069547\n",
       "2018-07-24            70925.0  7088.0  445.385689  475.602427\n",
       "2018-07-25            59824.0  6016.0  386.886200  493.930352\n",
       "2018-07-26            55641.0  5131.0  399.262414  473.173845\n",
       "2018-07-27            49362.0  4522.0  389.382521  485.988501\n",
       "2018-07-28            58694.0  5311.0  390.292705  434.840896"
      ]
     },
     "execution_count": 217,
     "metadata": {},
     "output_type": "execute_result"
    }
   ],
   "source": [
    "df.groupby(['event_time_short','platform']).agg({'amount_spent': [pd.Series.count,pd.Series.mean]},).unstack()"
   ]
  },
  {
   "cell_type": "code",
   "execution_count": 220,
   "metadata": {
    "ExecuteTime": {
     "end_time": "2019-07-23T19:24:18.406518Z",
     "start_time": "2019-07-23T19:24:18.135818Z"
    }
   },
   "outputs": [
    {
     "data": {
      "text/html": [
       "<div>\n",
       "<style scoped>\n",
       "    .dataframe tbody tr th:only-of-type {\n",
       "        vertical-align: middle;\n",
       "    }\n",
       "\n",
       "    .dataframe tbody tr th {\n",
       "        vertical-align: top;\n",
       "    }\n",
       "\n",
       "    .dataframe thead th {\n",
       "        text-align: right;\n",
       "    }\n",
       "</style>\n",
       "<table border=\"1\" class=\"dataframe\">\n",
       "  <thead>\n",
       "    <tr style=\"text-align: right;\">\n",
       "      <th></th>\n",
       "      <th>amount_spent</th>\n",
       "      <th>event_time</th>\n",
       "    </tr>\n",
       "    <tr>\n",
       "      <th>event_weekday</th>\n",
       "      <th></th>\n",
       "      <th></th>\n",
       "    </tr>\n",
       "  </thead>\n",
       "  <tbody>\n",
       "    <tr>\n",
       "      <th>0</th>\n",
       "      <td>441.174594</td>\n",
       "      <td>309128</td>\n",
       "    </tr>\n",
       "    <tr>\n",
       "      <th>1</th>\n",
       "      <td>442.209005</td>\n",
       "      <td>300839</td>\n",
       "    </tr>\n",
       "    <tr>\n",
       "      <th>2</th>\n",
       "      <td>421.360870</td>\n",
       "      <td>275695</td>\n",
       "    </tr>\n",
       "    <tr>\n",
       "      <th>3</th>\n",
       "      <td>417.075426</td>\n",
       "      <td>272585</td>\n",
       "    </tr>\n",
       "    <tr>\n",
       "      <th>4</th>\n",
       "      <td>424.786178</td>\n",
       "      <td>259351</td>\n",
       "    </tr>\n",
       "    <tr>\n",
       "      <th>5</th>\n",
       "      <td>451.333286</td>\n",
       "      <td>313905</td>\n",
       "    </tr>\n",
       "    <tr>\n",
       "      <th>6</th>\n",
       "      <td>451.992502</td>\n",
       "      <td>310065</td>\n",
       "    </tr>\n",
       "  </tbody>\n",
       "</table>\n",
       "</div>"
      ],
      "text/plain": [
       "               amount_spent  event_time\n",
       "event_weekday                          \n",
       "0                441.174594      309128\n",
       "1                442.209005      300839\n",
       "2                421.360870      275695\n",
       "3                417.075426      272585\n",
       "4                424.786178      259351\n",
       "5                451.333286      313905\n",
       "6                451.992502      310065"
      ]
     },
     "execution_count": 220,
     "metadata": {},
     "output_type": "execute_result"
    }
   ],
   "source": [
    "df_by_weekday = df.groupby('event_weekday').agg({'amount_spent': pd.Series.mean,\n",
    "                                 'event_time': pd.Series.count},)\n",
    "\n",
    "df_by_weekday['event_time'] = df_by_weekday['event_time'].astype(np.int64)\n",
    "df_by_weekday"
   ]
  },
  {
   "cell_type": "code",
   "execution_count": 227,
   "metadata": {
    "ExecuteTime": {
     "end_time": "2019-07-23T19:28:53.191762Z",
     "start_time": "2019-07-23T19:28:53.033805Z"
    }
   },
   "outputs": [],
   "source": [
    "days_name = ['lunes','martes','miércoles','jueves','viernes','sábado','domingo']\n",
    "\n",
    "df_heatmap = df.groupby(['event_hour','event_weekday'])['amount_spent'].mean().unstack()\n",
    "\n",
    "df_heatmap = df_heatmap.sort_index(ascending=False)\n",
    "\n",
    "# plt.figure(figsize=(16,6))\n",
    "# sns.heatmap(df_heatmap, cmap='BrBG')\n",
    "# plt.xticks(ticks=df_heatmap.columns + .5, labels=days_name);"
   ]
  },
  {
   "cell_type": "markdown",
   "metadata": {},
   "source": [
    "# Por plataforma "
   ]
  },
  {
   "cell_type": "code",
   "execution_count": 154,
   "metadata": {
    "ExecuteTime": {
     "end_time": "2019-07-23T17:51:09.168756Z",
     "start_time": "2019-07-23T17:51:08.965002Z"
    }
   },
   "outputs": [
    {
     "data": {
      "text/plain": [
       "Android    0.916552\n",
       "iOS        0.083448\n",
       "Name: platform, dtype: float64"
      ]
     },
     "execution_count": 154,
     "metadata": {},
     "output_type": "execute_result"
    }
   ],
   "source": [
    "df.platform.value_counts() / df.platform.count()"
   ]
  },
  {
   "cell_type": "code",
   "execution_count": 232,
   "metadata": {
    "ExecuteTime": {
     "end_time": "2019-07-23T19:31:21.454531Z",
     "start_time": "2019-07-23T19:31:20.850599Z"
    }
   },
   "outputs": [],
   "source": [
    "# df.user_id.value_counts().to_frame().user_id.value_counts().to_frame().sort_index()\n",
    "df_users = df.groupby('platform').agg({'event_time': pd.Series.count,\n",
    "                                      'amount_spent': pd.Series.mean,\n",
    "# df_users = df.groupby(['platform', 'user_id']).agg({'event_time': pd.Series.nunique,\n",
    "#                                       'amount_spent': pd.Series.sum,                                                    \n",
    "                                      'sink_1': pd.Series.sum,\n",
    "                                      'sink_2': pd.Series.sum,\n",
    "                                      'sink_3': pd.Series.sum,\n",
    "                                      'sink_4': pd.Series.sum,\n",
    "                                      'sink_5': pd.Series.sum,\n",
    "                                      'sink_6': pd.Series.sum,\n",
    "                                      'sink_7': pd.Series.sum,\n",
    "                                     })"
   ]
  },
  {
   "cell_type": "code",
   "execution_count": 233,
   "metadata": {
    "ExecuteTime": {
     "end_time": "2019-07-23T19:31:22.089419Z",
     "start_time": "2019-07-23T19:31:22.078738Z"
    }
   },
   "outputs": [],
   "source": [
    "df_users['event_time'] = df_users.event_time.astype(np.int64)"
   ]
  },
  {
   "cell_type": "code",
   "execution_count": 234,
   "metadata": {
    "ExecuteTime": {
     "end_time": "2019-07-23T19:31:22.574703Z",
     "start_time": "2019-07-23T19:31:22.556588Z"
    }
   },
   "outputs": [
    {
     "data": {
      "text/html": [
       "<div>\n",
       "<style scoped>\n",
       "    .dataframe tbody tr th:only-of-type {\n",
       "        vertical-align: middle;\n",
       "    }\n",
       "\n",
       "    .dataframe tbody tr th {\n",
       "        vertical-align: top;\n",
       "    }\n",
       "\n",
       "    .dataframe thead th {\n",
       "        text-align: right;\n",
       "    }\n",
       "</style>\n",
       "<table border=\"1\" class=\"dataframe\">\n",
       "  <thead>\n",
       "    <tr style=\"text-align: right;\">\n",
       "      <th></th>\n",
       "      <th>event_time</th>\n",
       "      <th>amount_spent</th>\n",
       "      <th>sink_1</th>\n",
       "      <th>sink_2</th>\n",
       "      <th>sink_3</th>\n",
       "      <th>sink_4</th>\n",
       "      <th>sink_5</th>\n",
       "      <th>sink_6</th>\n",
       "      <th>sink_7</th>\n",
       "    </tr>\n",
       "    <tr>\n",
       "      <th>platform</th>\n",
       "      <th></th>\n",
       "      <th></th>\n",
       "      <th></th>\n",
       "      <th></th>\n",
       "      <th></th>\n",
       "      <th></th>\n",
       "      <th></th>\n",
       "      <th></th>\n",
       "      <th></th>\n",
       "    </tr>\n",
       "  </thead>\n",
       "  <tbody>\n",
       "    <tr>\n",
       "      <th>Android</th>\n",
       "      <td>1871204</td>\n",
       "      <td>429.703806</td>\n",
       "      <td>1214105</td>\n",
       "      <td>495883</td>\n",
       "      <td>158624</td>\n",
       "      <td>324</td>\n",
       "      <td>1138</td>\n",
       "      <td>885</td>\n",
       "      <td>245</td>\n",
       "    </tr>\n",
       "    <tr>\n",
       "      <th>iOS</th>\n",
       "      <td>170364</td>\n",
       "      <td>511.826413</td>\n",
       "      <td>117709</td>\n",
       "      <td>39669</td>\n",
       "      <td>10661</td>\n",
       "      <td>1812</td>\n",
       "      <td>89</td>\n",
       "      <td>250</td>\n",
       "      <td>174</td>\n",
       "    </tr>\n",
       "  </tbody>\n",
       "</table>\n",
       "</div>"
      ],
      "text/plain": [
       "          event_time  amount_spent   sink_1  sink_2  sink_3  sink_4  sink_5  \\\n",
       "platform                                                                      \n",
       "Android      1871204    429.703806  1214105  495883  158624     324    1138   \n",
       "iOS           170364    511.826413   117709   39669   10661    1812      89   \n",
       "\n",
       "          sink_6  sink_7  \n",
       "platform                  \n",
       "Android      885     245  \n",
       "iOS          250     174  "
      ]
     },
     "execution_count": 234,
     "metadata": {},
     "output_type": "execute_result"
    }
   ],
   "source": [
    "df_users"
   ]
  },
  {
   "cell_type": "code",
   "execution_count": 161,
   "metadata": {
    "ExecuteTime": {
     "end_time": "2019-07-23T17:54:12.759829Z",
     "start_time": "2019-07-23T17:54:12.733757Z"
    }
   },
   "outputs": [
    {
     "data": {
      "text/plain": [
       "event_time        21.389984\n",
       "amount_spent    9337.946199\n",
       "sink_1            13.953733\n",
       "sink_2             5.611106\n",
       "sink_3             1.773639\n",
       "sink_4             0.022379\n",
       "sink_5             0.012856\n",
       "sink_6             0.011892\n",
       "sink_7             0.004390\n",
       "dtype: float64"
      ]
     },
     "execution_count": 161,
     "metadata": {},
     "output_type": "execute_result"
    }
   ],
   "source": []
  },
  {
   "cell_type": "code",
   "execution_count": 159,
   "metadata": {
    "ExecuteTime": {
     "end_time": "2019-07-23T17:53:38.599839Z",
     "start_time": "2019-07-23T17:53:38.570890Z"
    }
   },
   "outputs": [
    {
     "data": {
      "text/html": [
       "<div>\n",
       "<style scoped>\n",
       "    .dataframe tbody tr th:only-of-type {\n",
       "        vertical-align: middle;\n",
       "    }\n",
       "\n",
       "    .dataframe tbody tr th {\n",
       "        vertical-align: top;\n",
       "    }\n",
       "\n",
       "    .dataframe thead th {\n",
       "        text-align: right;\n",
       "    }\n",
       "</style>\n",
       "<table border=\"1\" class=\"dataframe\">\n",
       "  <thead>\n",
       "    <tr style=\"text-align: right;\">\n",
       "      <th></th>\n",
       "      <th>index</th>\n",
       "      <th>0</th>\n",
       "    </tr>\n",
       "  </thead>\n",
       "  <tbody>\n",
       "    <tr>\n",
       "      <th>0</th>\n",
       "      <td>event_time</td>\n",
       "      <td>21.389984</td>\n",
       "    </tr>\n",
       "    <tr>\n",
       "      <th>1</th>\n",
       "      <td>amount_spent</td>\n",
       "      <td>9337.946199</td>\n",
       "    </tr>\n",
       "    <tr>\n",
       "      <th>2</th>\n",
       "      <td>sink_1</td>\n",
       "      <td>13.953733</td>\n",
       "    </tr>\n",
       "    <tr>\n",
       "      <th>3</th>\n",
       "      <td>sink_2</td>\n",
       "      <td>5.611106</td>\n",
       "    </tr>\n",
       "    <tr>\n",
       "      <th>4</th>\n",
       "      <td>sink_3</td>\n",
       "      <td>1.773639</td>\n",
       "    </tr>\n",
       "    <tr>\n",
       "      <th>5</th>\n",
       "      <td>sink_4</td>\n",
       "      <td>0.022379</td>\n",
       "    </tr>\n",
       "    <tr>\n",
       "      <th>6</th>\n",
       "      <td>sink_5</td>\n",
       "      <td>0.012856</td>\n",
       "    </tr>\n",
       "    <tr>\n",
       "      <th>7</th>\n",
       "      <td>sink_6</td>\n",
       "      <td>0.011892</td>\n",
       "    </tr>\n",
       "    <tr>\n",
       "      <th>8</th>\n",
       "      <td>sink_7</td>\n",
       "      <td>0.004390</td>\n",
       "    </tr>\n",
       "  </tbody>\n",
       "</table>\n",
       "</div>"
      ],
      "text/plain": [
       "          index            0\n",
       "0    event_time    21.389984\n",
       "1  amount_spent  9337.946199\n",
       "2        sink_1    13.953733\n",
       "3        sink_2     5.611106\n",
       "4        sink_3     1.773639\n",
       "5        sink_4     0.022379\n",
       "6        sink_5     0.012856\n",
       "7        sink_6     0.011892\n",
       "8        sink_7     0.004390"
      ]
     },
     "metadata": {},
     "output_type": "display_data"
    },
    {
     "data": {
      "text/plain": [
       "index    sink_1sink_2sink_3sink_4sink_5sink_6sink_7\n",
       "0                                             21.39\n",
       "dtype: object"
      ]
     },
     "execution_count": 159,
     "metadata": {},
     "output_type": "execute_result"
    }
   ],
   "source": [
    "df_users_means = df_users.mean().reset_index()\n",
    "\n",
    "mean_is_sink = df_users_means['index'].str.contains('sink_')\n",
    "\n",
    "display(df_users_means)\n",
    "\n",
    "df_users_means[mean_is_sink].sum()"
   ]
  },
  {
   "cell_type": "code",
   "execution_count": null,
   "metadata": {},
   "outputs": [],
   "source": []
  }
 ],
 "metadata": {
  "hide_input": false,
  "kernelspec": {
   "display_name": "Python 3",
   "language": "python",
   "name": "python3"
  },
  "language_info": {
   "codemirror_mode": {
    "name": "ipython",
    "version": 3
   },
   "file_extension": ".py",
   "mimetype": "text/x-python",
   "name": "python",
   "nbconvert_exporter": "python",
   "pygments_lexer": "ipython3",
   "version": "3.7.2"
  },
  "toc": {
   "base_numbering": 1,
   "nav_menu": {},
   "number_sections": true,
   "sideBar": false,
   "skip_h1_title": false,
   "title_cell": "Table of Contents",
   "title_sidebar": "Contents",
   "toc_cell": false,
   "toc_position": {},
   "toc_section_display": true,
   "toc_window_display": true
  }
 },
 "nbformat": 4,
 "nbformat_minor": 2
}
